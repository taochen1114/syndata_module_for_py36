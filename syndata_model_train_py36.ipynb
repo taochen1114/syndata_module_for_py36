{
 "cells": [
  {
   "cell_type": "markdown",
   "id": "fe98472e-683c-4ed8-8274-9c0518dbf4c2",
   "metadata": {},
   "source": [
    "# 合成資料模型訓練模組 - python3.6 版本"
   ]
  },
  {
   "cell_type": "markdown",
   "id": "7b9a9a68-ccb2-4840-89f9-374baaad450a",
   "metadata": {},
   "source": [
    "## 環境建置\n",
    "1. 安裝 pyenv 依賴\n",
    "```\n",
    "sudo apt update\n",
    "sudo apt install -y make build-essential libssl-dev zlib1g-dev \\\n",
    "  libbz2-dev libreadline-dev libsqlite3-dev wget curl llvm \\\n",
    "  libncursesw5-dev xz-utils tk-dev libxml2-dev libxmlsec1-dev libffi-dev liblzma-dev\n",
    "```\n",
    "2. 安裝 Python 3.6.15\n",
    "```\n",
    "pyenv install 3.6.15\n",
    "pyenv local 3.6.15\n",
    "```\n",
    "3. 建立 virtualenv\n",
    "```\n",
    "python -m venv venv\n",
    "source venv/bin/activate\n",
    "```\n",
    "4. 安裝 core 套件（預先裝 wheel）\n",
    "```\n",
    "pip install --upgrade pip setuptools wheel\n",
    "pip install numpy==1.19.5 cython==0.29.36 pandas==0.24.2\n",
    "pip install sdv==0.3.6\n",
    "pip install jupyterlab==3.2.9\n",
    "pip install scipy==1.2.3 sdmetrics==0.0.2.dev0\n",
    "```"
   ]
  },
  {
   "cell_type": "code",
   "execution_count": 18,
   "id": "0115c346-8276-4822-812f-ba6e5fee3c23",
   "metadata": {
    "tags": []
   },
   "outputs": [],
   "source": [
    "import argparse\n",
    "import json\n",
    "import logging\n",
    "import os\n",
    "import time\n",
    "\n",
    "import numpy as np\n",
    "import pandas as pd\n",
    "from sdv.tabular import GaussianCopula\n",
    "from sdv.tabular import CTGAN\n",
    "\n",
    "from sdv import SDV"
   ]
  },
  {
   "cell_type": "code",
   "execution_count": 19,
   "id": "32138743-ae5e-49ad-8368-d08dbdab9d20",
   "metadata": {},
   "outputs": [],
   "source": [
    "from IPython.display import display\n",
    "import logging\n",
    "\n",
    "class JupyterHandler(logging.Handler):\n",
    "    def emit(self, record):\n",
    "        msg = self.format(record)\n",
    "        display(msg)\n",
    "\n",
    "logger = logging.getLogger()\n",
    "logger.setLevel(logging.INFO)\n",
    "logger.addHandler(JupyterHandler())"
   ]
  },
  {
   "cell_type": "code",
   "execution_count": 20,
   "id": "6ece5cde-4357-4bd9-adf3-6e1bb72cba6c",
   "metadata": {},
   "outputs": [],
   "source": [
    "def get_data_from_model(model_path, num_rows=1000, condition_dict=None):\n",
    "    logging.info(\"Generate Synthetic data from Model\")\n",
    "    model = SDV.load(model_path)\n",
    "    \n",
    "    # condition = Condition({'gender': 'M'}, num_rows=num_rows)\n",
    "    if not condition_dict:\n",
    "        sampled = model.sample(num_rows=num_rows)\n",
    "    else:\n",
    "        logging.info(\"Sample data by condition\")\n",
    "        condition = Condition(condition_dict, num_rows=num_rows)\n",
    "        sampled = model.sample_conditions(conditions=[condition])\n",
    "        \n",
    "    return sampled"
   ]
  },
  {
   "cell_type": "code",
   "execution_count": 21,
   "id": "a0deffcd-2d3f-49e8-a71b-151afb54a931",
   "metadata": {},
   "outputs": [],
   "source": [
    "def data_sythesizer(args, input_df=pd.DataFrame()):\n",
    "    \"\"\"Synthesize input dataframe data and output dataframe\n",
    "\n",
    "    Args:\n",
    "        args (argparse): arguments for configs.\n",
    "        input_df (DataFrame): input data. Defaults to pd.DataFrame().\n",
    "\n",
    "    Returns:\n",
    "        output_df (DataFrame): synthesized data output\n",
    "    \"\"\"\n",
    "    pri_key = args.primary_key\n",
    "\n",
    "    if args.synth_model == \"GaussianCopula\":\n",
    "        logging.info(\"sythetic model arch: GaussianCopula\")\n",
    "        model = GaussianCopula(primary_key=pri_key) if pri_key else GaussianCopula()\n",
    "    elif args.synth_model == \"CTGAN\":\n",
    "        if args.custom_setting:\n",
    "            logging.info(\"sythetic model arch: CTGAN-c\")\n",
    "            model = CTGAN(\n",
    "                primary_key=pri_key,\n",
    "                epochs=args.epochs,\n",
    "                batch_size=args.batch_size,\n",
    "                generator_dim=tuple(args.gen_dim),\n",
    "                discriminator_dim=tuple(args.dis_dim),\n",
    "                verbose=True,\n",
    "            )\n",
    "        else:\n",
    "            logging.info(\"sythetic model arch: CTGAN\")\n",
    "            model = (\n",
    "                CTGAN(primary_key=pri_key, verbose=True)\n",
    "                if pri_key\n",
    "                else CTGAN(verbose=True)\n",
    "            )\n",
    "    else:\n",
    "        logging.info(\"the sythetic model is not supported!\")\n",
    "\n",
    "    logging.info(\"Synthetic model fitting data start ... \")\n",
    "    start_time = time.time()\n",
    "    model.fit(input_df)\n",
    "    logging.info(f\"Training time cost: {time.time()-start_time}\")\n",
    "    output_df = model.sample(num_rows=args.num_rows)\n",
    "\n",
    "    if args.save_model:\n",
    "        output_model_path = os.path.join(\n",
    "            args.output_dir, f\"syn_model_{args.synth_model}.pkl\"\n",
    "        )\n",
    "        if args.custom_setting:\n",
    "            output_model_path = os.path.join(\n",
    "                args.output_dir, f\"syn_model_{args.synth_model}-c.pkl\"\n",
    "            )\n",
    "\n",
    "        logging.info(f\"Save model to {output_model_path}\")\n",
    "        model.save(output_model_path)\n",
    "\n",
    "    return output_df"
   ]
  },
  {
   "cell_type": "code",
   "execution_count": 22,
   "id": "e470f0e8-8388-4be2-b7ee-4d52c0c4187e",
   "metadata": {},
   "outputs": [],
   "source": [
    "def set_args(args_list=None):\n",
    "    \"\"\"Main Function\n",
    "    process input and do configs check\n",
    "    \"\"\"\n",
    "    import argparse\n",
    "\n",
    "    parser = argparse.ArgumentParser()\n",
    "    parser.add_argument(\"--input_path\", type=str, default=\"data/train.csv\")\n",
    "    parser.add_argument(\"--output_dir\", type=str, default=\"data/output/\")\n",
    "    parser.add_argument(\"--synth_model\", type=str, default=\"GaussianCopula\", help=\"sythetic model type\")\n",
    "    parser.add_argument(\"--primary_key\", type=str, default=\"\", help=\"primary key in your tabular data\")\n",
    "    parser.add_argument(\"--num_rows\", type=int, default=200, help=\"num rows of the output sythetic dataframe\")\n",
    "    parser.add_argument(\"--save_model\", action=\"store_true\", help=\"set for save model pkl file\")\n",
    "    parser.add_argument(\"--save_output\", action=\"store_true\", help=\"set for save output csv file\")\n",
    "    parser.add_argument(\"--save_report\", action=\"store_true\", help=\"set for save report csv and image files\")\n",
    "    \n",
    "    parser.add_argument(\"--custom_setting\", action=\"store_true\", help=\"set for custom setting in CTGAN and TVAE Model\")\n",
    "    parser.add_argument(\"--epochs\", type=int, default=300, help=\"set epochs for training CTGAN and TVAE Model\")\n",
    "    parser.add_argument(\"--batch_size\", type=int, default=500, help=\"set batch size for training CTGAN and TVAE Model\")\n",
    "    parser.add_argument(\"--gen_dim\", type=int, nargs=\"+\", default=[256, 256], help=\"set gen dimension\")\n",
    "    parser.add_argument(\"--dis_dim\", type=int, nargs=\"+\", default=[256, 256], help=\"set dis dimension\")\n",
    "    \n",
    "    parser.add_argument(\"--input_syn_model\", type=str, default=None, help=\"path to your syn_data model file\")\n",
    "    parser.add_argument(\"--sample_condition\", type=str, default=None, help=\"path to your syn_data sample condition json file\")\n",
    "    parser.add_argument(\"--output_fpath\", type=str, default=None, help=\"set full file path for your syn_data output csv\")\n",
    "\n",
    "    return parser.parse_args(args_list)"
   ]
  },
  {
   "cell_type": "code",
   "execution_count": 23,
   "id": "cd717889-07a0-4c66-a948-55808ec43ac8",
   "metadata": {},
   "outputs": [],
   "source": [
    "def main(args):\n",
    "    # logging.info(f\"contents of args.primary_key {args.primary_key}\")\n",
    "    # logging.info(f\"contents of args.custom_setting {args.custom_setting}\")\n",
    "    # logging.info(f\"contents of args.gen_dim {args.gen_dim}\")\n",
    "    # logging.info(f\"contents of args.dis_dim {args.dis_dim}\")\n",
    "    if not args.input_syn_model:\n",
    "        assert os.path.exists(args.input_path), f\"Can't find the input file at {args.input_path}.\"\n",
    "        assert os.path.exists(args.output_dir), f\"Can't find the output folder at {args.output_dir}.\"\n",
    "        assert args.synth_model in [\"GaussianCopula\", \"CTGAN\"]\n",
    "        # [\"GaussianCopula\", \"CTGAN\", \"CopulaGAN\", \"TVAE\"]\n",
    "\n",
    "        input_path = args.input_path\n",
    "        output_dir = args.output_dir\n",
    "        # output_fname=args.output_fname\n",
    "\n",
    "        input_df = pd.read_csv(input_path)\n",
    "        if args.primary_key:\n",
    "            assert args.primary_key in input_df.columns\n",
    "\n",
    "        # if \"Id\" in input_df.columns:\n",
    "        #     input_df = input_df.drop(columns=[\"Id\"])\n",
    "\n",
    "        output_df = data_sythesizer(args=args, input_df=input_df)\n",
    "\n",
    "        logging.info(\"output dataframe shape\")\n",
    "        logging.info(output_df.shape)\n",
    "        logging.info(\"output dataframe head(5)\")\n",
    "        logging.info(output_df.head())\n",
    "\n",
    "        if args.save_output:\n",
    "            base = os.path.basename(input_path)\n",
    "            output_fname = (\n",
    "                os.path.splitext(base)[0] + \"_\" + args.synth_model + \"_output.csv\"\n",
    "            )\n",
    "            output_df.to_csv(os.path.join(output_dir, output_fname), index=False)\n",
    "    else:\n",
    "        model_path = args.input_syn_model\n",
    "        num_rows = args.num_rows\n",
    "        condition_fpath = args.sample_condition\n",
    "        output_fpath=args.output_fpath\n",
    "        assert os.path.exists(model_path), f\"Can't find the model_path pkl file: {model_path}.\"\n",
    "        if not condition_fpath:\n",
    "            output_df = get_data_from_model(model_path, num_rows=num_rows, condition_dict=None)\n",
    "        else:\n",
    "            assert os.path.exists(condition_fpath), f\"Can't find the sample_condition json file: {condition_fpath}.\"\n",
    "            assert condition_fpath[-5:] == \".json\", f\"{condition_fpath} must be a json file!\"\n",
    "            \n",
    "            with open(condition_fpath, \"r\") as f:\n",
    "                condition_dict = json.load(f)\n",
    "\n",
    "            output_df = get_data_from_model(model_path, num_rows=num_rows, condition_dict=condition_dict)\n",
    "\n",
    "        logging.info(\"output dataframe shape\")\n",
    "        logging.info(output_df.shape)\n",
    "        logging.info(\"output dataframe head(5)\")\n",
    "        logging.info(output_df.head())\n",
    "\n",
    "        if args.save_output:\n",
    "            output_df.to_csv(output_fpath, index=False)\n"
   ]
  },
  {
   "cell_type": "markdown",
   "id": "a53b9a68-9cde-41df-9f10-37ca6d26eff6",
   "metadata": {},
   "source": [
    "# 使用模組訓練合成資料模型 + 生成合成資料"
   ]
  },
  {
   "cell_type": "code",
   "execution_count": 17,
   "id": "7031732c-6a25-4724-af80-80b95b1038af",
   "metadata": {},
   "outputs": [
    {
     "name": "stderr",
     "output_type": "stream",
     "text": [
      "INFO:root:sythetic model arch: GaussianCopula\n"
     ]
    },
    {
     "data": {
      "text/plain": [
       "'sythetic model arch: GaussianCopula'"
      ]
     },
     "metadata": {},
     "output_type": "display_data"
    },
    {
     "data": {
      "text/plain": [
       "'sythetic model arch: GaussianCopula'"
      ]
     },
     "metadata": {},
     "output_type": "display_data"
    },
    {
     "name": "stderr",
     "output_type": "stream",
     "text": [
      "INFO:root:Synthetic model fitting data start ... \n"
     ]
    },
    {
     "data": {
      "text/plain": [
       "'Synthetic model fitting data start ... '"
      ]
     },
     "metadata": {},
     "output_type": "display_data"
    },
    {
     "data": {
      "text/plain": [
       "'Synthetic model fitting data start ... '"
      ]
     },
     "metadata": {},
     "output_type": "display_data"
    },
    {
     "name": "stderr",
     "output_type": "stream",
     "text": [
      "INFO:sdv.metadata.table:Loading transformer NumericalTransformer for field MSSubClass\n"
     ]
    },
    {
     "data": {
      "text/plain": [
       "'Loading transformer NumericalTransformer for field MSSubClass'"
      ]
     },
     "metadata": {},
     "output_type": "display_data"
    },
    {
     "data": {
      "text/plain": [
       "'Loading transformer NumericalTransformer for field MSSubClass'"
      ]
     },
     "metadata": {},
     "output_type": "display_data"
    },
    {
     "name": "stderr",
     "output_type": "stream",
     "text": [
      "INFO:sdv.metadata.table:Loading transformer OneHotEncodingTransformer for field MSZoning\n"
     ]
    },
    {
     "data": {
      "text/plain": [
       "'Loading transformer OneHotEncodingTransformer for field MSZoning'"
      ]
     },
     "metadata": {},
     "output_type": "display_data"
    },
    {
     "data": {
      "text/plain": [
       "'Loading transformer OneHotEncodingTransformer for field MSZoning'"
      ]
     },
     "metadata": {},
     "output_type": "display_data"
    },
    {
     "name": "stderr",
     "output_type": "stream",
     "text": [
      "INFO:sdv.metadata.table:Loading transformer NumericalTransformer for field LotFrontage\n"
     ]
    },
    {
     "data": {
      "text/plain": [
       "'Loading transformer NumericalTransformer for field LotFrontage'"
      ]
     },
     "metadata": {},
     "output_type": "display_data"
    },
    {
     "data": {
      "text/plain": [
       "'Loading transformer NumericalTransformer for field LotFrontage'"
      ]
     },
     "metadata": {},
     "output_type": "display_data"
    },
    {
     "name": "stderr",
     "output_type": "stream",
     "text": [
      "INFO:sdv.metadata.table:Loading transformer NumericalTransformer for field LotArea\n"
     ]
    },
    {
     "data": {
      "text/plain": [
       "'Loading transformer NumericalTransformer for field LotArea'"
      ]
     },
     "metadata": {},
     "output_type": "display_data"
    },
    {
     "data": {
      "text/plain": [
       "'Loading transformer NumericalTransformer for field LotArea'"
      ]
     },
     "metadata": {},
     "output_type": "display_data"
    },
    {
     "name": "stderr",
     "output_type": "stream",
     "text": [
      "INFO:sdv.metadata.table:Loading transformer OneHotEncodingTransformer for field Street\n"
     ]
    },
    {
     "data": {
      "text/plain": [
       "'Loading transformer OneHotEncodingTransformer for field Street'"
      ]
     },
     "metadata": {},
     "output_type": "display_data"
    },
    {
     "data": {
      "text/plain": [
       "'Loading transformer OneHotEncodingTransformer for field Street'"
      ]
     },
     "metadata": {},
     "output_type": "display_data"
    },
    {
     "name": "stderr",
     "output_type": "stream",
     "text": [
      "INFO:sdv.metadata.table:Loading transformer OneHotEncodingTransformer for field Alley\n"
     ]
    },
    {
     "data": {
      "text/plain": [
       "'Loading transformer OneHotEncodingTransformer for field Alley'"
      ]
     },
     "metadata": {},
     "output_type": "display_data"
    },
    {
     "data": {
      "text/plain": [
       "'Loading transformer OneHotEncodingTransformer for field Alley'"
      ]
     },
     "metadata": {},
     "output_type": "display_data"
    },
    {
     "name": "stderr",
     "output_type": "stream",
     "text": [
      "INFO:sdv.metadata.table:Loading transformer OneHotEncodingTransformer for field LotShape\n"
     ]
    },
    {
     "data": {
      "text/plain": [
       "'Loading transformer OneHotEncodingTransformer for field LotShape'"
      ]
     },
     "metadata": {},
     "output_type": "display_data"
    },
    {
     "data": {
      "text/plain": [
       "'Loading transformer OneHotEncodingTransformer for field LotShape'"
      ]
     },
     "metadata": {},
     "output_type": "display_data"
    },
    {
     "name": "stderr",
     "output_type": "stream",
     "text": [
      "INFO:sdv.metadata.table:Loading transformer OneHotEncodingTransformer for field LandContour\n"
     ]
    },
    {
     "data": {
      "text/plain": [
       "'Loading transformer OneHotEncodingTransformer for field LandContour'"
      ]
     },
     "metadata": {},
     "output_type": "display_data"
    },
    {
     "data": {
      "text/plain": [
       "'Loading transformer OneHotEncodingTransformer for field LandContour'"
      ]
     },
     "metadata": {},
     "output_type": "display_data"
    },
    {
     "name": "stderr",
     "output_type": "stream",
     "text": [
      "INFO:sdv.metadata.table:Loading transformer OneHotEncodingTransformer for field Utilities\n"
     ]
    },
    {
     "data": {
      "text/plain": [
       "'Loading transformer OneHotEncodingTransformer for field Utilities'"
      ]
     },
     "metadata": {},
     "output_type": "display_data"
    },
    {
     "data": {
      "text/plain": [
       "'Loading transformer OneHotEncodingTransformer for field Utilities'"
      ]
     },
     "metadata": {},
     "output_type": "display_data"
    },
    {
     "name": "stderr",
     "output_type": "stream",
     "text": [
      "INFO:sdv.metadata.table:Loading transformer OneHotEncodingTransformer for field LotConfig\n"
     ]
    },
    {
     "data": {
      "text/plain": [
       "'Loading transformer OneHotEncodingTransformer for field LotConfig'"
      ]
     },
     "metadata": {},
     "output_type": "display_data"
    },
    {
     "data": {
      "text/plain": [
       "'Loading transformer OneHotEncodingTransformer for field LotConfig'"
      ]
     },
     "metadata": {},
     "output_type": "display_data"
    },
    {
     "name": "stderr",
     "output_type": "stream",
     "text": [
      "INFO:sdv.metadata.table:Loading transformer OneHotEncodingTransformer for field LandSlope\n"
     ]
    },
    {
     "data": {
      "text/plain": [
       "'Loading transformer OneHotEncodingTransformer for field LandSlope'"
      ]
     },
     "metadata": {},
     "output_type": "display_data"
    },
    {
     "data": {
      "text/plain": [
       "'Loading transformer OneHotEncodingTransformer for field LandSlope'"
      ]
     },
     "metadata": {},
     "output_type": "display_data"
    },
    {
     "name": "stderr",
     "output_type": "stream",
     "text": [
      "INFO:sdv.metadata.table:Loading transformer OneHotEncodingTransformer for field Neighborhood\n"
     ]
    },
    {
     "data": {
      "text/plain": [
       "'Loading transformer OneHotEncodingTransformer for field Neighborhood'"
      ]
     },
     "metadata": {},
     "output_type": "display_data"
    },
    {
     "data": {
      "text/plain": [
       "'Loading transformer OneHotEncodingTransformer for field Neighborhood'"
      ]
     },
     "metadata": {},
     "output_type": "display_data"
    },
    {
     "name": "stderr",
     "output_type": "stream",
     "text": [
      "INFO:sdv.metadata.table:Loading transformer OneHotEncodingTransformer for field Condition1\n"
     ]
    },
    {
     "data": {
      "text/plain": [
       "'Loading transformer OneHotEncodingTransformer for field Condition1'"
      ]
     },
     "metadata": {},
     "output_type": "display_data"
    },
    {
     "data": {
      "text/plain": [
       "'Loading transformer OneHotEncodingTransformer for field Condition1'"
      ]
     },
     "metadata": {},
     "output_type": "display_data"
    },
    {
     "name": "stderr",
     "output_type": "stream",
     "text": [
      "INFO:sdv.metadata.table:Loading transformer OneHotEncodingTransformer for field Condition2\n"
     ]
    },
    {
     "data": {
      "text/plain": [
       "'Loading transformer OneHotEncodingTransformer for field Condition2'"
      ]
     },
     "metadata": {},
     "output_type": "display_data"
    },
    {
     "data": {
      "text/plain": [
       "'Loading transformer OneHotEncodingTransformer for field Condition2'"
      ]
     },
     "metadata": {},
     "output_type": "display_data"
    },
    {
     "name": "stderr",
     "output_type": "stream",
     "text": [
      "INFO:sdv.metadata.table:Loading transformer OneHotEncodingTransformer for field BldgType\n"
     ]
    },
    {
     "data": {
      "text/plain": [
       "'Loading transformer OneHotEncodingTransformer for field BldgType'"
      ]
     },
     "metadata": {},
     "output_type": "display_data"
    },
    {
     "data": {
      "text/plain": [
       "'Loading transformer OneHotEncodingTransformer for field BldgType'"
      ]
     },
     "metadata": {},
     "output_type": "display_data"
    },
    {
     "name": "stderr",
     "output_type": "stream",
     "text": [
      "INFO:sdv.metadata.table:Loading transformer OneHotEncodingTransformer for field HouseStyle\n"
     ]
    },
    {
     "data": {
      "text/plain": [
       "'Loading transformer OneHotEncodingTransformer for field HouseStyle'"
      ]
     },
     "metadata": {},
     "output_type": "display_data"
    },
    {
     "data": {
      "text/plain": [
       "'Loading transformer OneHotEncodingTransformer for field HouseStyle'"
      ]
     },
     "metadata": {},
     "output_type": "display_data"
    },
    {
     "name": "stderr",
     "output_type": "stream",
     "text": [
      "INFO:sdv.metadata.table:Loading transformer NumericalTransformer for field OverallQual\n"
     ]
    },
    {
     "data": {
      "text/plain": [
       "'Loading transformer NumericalTransformer for field OverallQual'"
      ]
     },
     "metadata": {},
     "output_type": "display_data"
    },
    {
     "data": {
      "text/plain": [
       "'Loading transformer NumericalTransformer for field OverallQual'"
      ]
     },
     "metadata": {},
     "output_type": "display_data"
    },
    {
     "name": "stderr",
     "output_type": "stream",
     "text": [
      "INFO:sdv.metadata.table:Loading transformer NumericalTransformer for field OverallCond\n"
     ]
    },
    {
     "data": {
      "text/plain": [
       "'Loading transformer NumericalTransformer for field OverallCond'"
      ]
     },
     "metadata": {},
     "output_type": "display_data"
    },
    {
     "data": {
      "text/plain": [
       "'Loading transformer NumericalTransformer for field OverallCond'"
      ]
     },
     "metadata": {},
     "output_type": "display_data"
    },
    {
     "name": "stderr",
     "output_type": "stream",
     "text": [
      "INFO:sdv.metadata.table:Loading transformer NumericalTransformer for field YearBuilt\n"
     ]
    },
    {
     "data": {
      "text/plain": [
       "'Loading transformer NumericalTransformer for field YearBuilt'"
      ]
     },
     "metadata": {},
     "output_type": "display_data"
    },
    {
     "data": {
      "text/plain": [
       "'Loading transformer NumericalTransformer for field YearBuilt'"
      ]
     },
     "metadata": {},
     "output_type": "display_data"
    },
    {
     "name": "stderr",
     "output_type": "stream",
     "text": [
      "INFO:sdv.metadata.table:Loading transformer NumericalTransformer for field YearRemodAdd\n"
     ]
    },
    {
     "data": {
      "text/plain": [
       "'Loading transformer NumericalTransformer for field YearRemodAdd'"
      ]
     },
     "metadata": {},
     "output_type": "display_data"
    },
    {
     "data": {
      "text/plain": [
       "'Loading transformer NumericalTransformer for field YearRemodAdd'"
      ]
     },
     "metadata": {},
     "output_type": "display_data"
    },
    {
     "name": "stderr",
     "output_type": "stream",
     "text": [
      "INFO:sdv.metadata.table:Loading transformer OneHotEncodingTransformer for field RoofStyle\n"
     ]
    },
    {
     "data": {
      "text/plain": [
       "'Loading transformer OneHotEncodingTransformer for field RoofStyle'"
      ]
     },
     "metadata": {},
     "output_type": "display_data"
    },
    {
     "data": {
      "text/plain": [
       "'Loading transformer OneHotEncodingTransformer for field RoofStyle'"
      ]
     },
     "metadata": {},
     "output_type": "display_data"
    },
    {
     "name": "stderr",
     "output_type": "stream",
     "text": [
      "INFO:sdv.metadata.table:Loading transformer OneHotEncodingTransformer for field RoofMatl\n"
     ]
    },
    {
     "data": {
      "text/plain": [
       "'Loading transformer OneHotEncodingTransformer for field RoofMatl'"
      ]
     },
     "metadata": {},
     "output_type": "display_data"
    },
    {
     "data": {
      "text/plain": [
       "'Loading transformer OneHotEncodingTransformer for field RoofMatl'"
      ]
     },
     "metadata": {},
     "output_type": "display_data"
    },
    {
     "name": "stderr",
     "output_type": "stream",
     "text": [
      "INFO:sdv.metadata.table:Loading transformer OneHotEncodingTransformer for field Exterior1st\n"
     ]
    },
    {
     "data": {
      "text/plain": [
       "'Loading transformer OneHotEncodingTransformer for field Exterior1st'"
      ]
     },
     "metadata": {},
     "output_type": "display_data"
    },
    {
     "data": {
      "text/plain": [
       "'Loading transformer OneHotEncodingTransformer for field Exterior1st'"
      ]
     },
     "metadata": {},
     "output_type": "display_data"
    },
    {
     "name": "stderr",
     "output_type": "stream",
     "text": [
      "INFO:sdv.metadata.table:Loading transformer OneHotEncodingTransformer for field Exterior2nd\n"
     ]
    },
    {
     "data": {
      "text/plain": [
       "'Loading transformer OneHotEncodingTransformer for field Exterior2nd'"
      ]
     },
     "metadata": {},
     "output_type": "display_data"
    },
    {
     "data": {
      "text/plain": [
       "'Loading transformer OneHotEncodingTransformer for field Exterior2nd'"
      ]
     },
     "metadata": {},
     "output_type": "display_data"
    },
    {
     "name": "stderr",
     "output_type": "stream",
     "text": [
      "INFO:sdv.metadata.table:Loading transformer OneHotEncodingTransformer for field MasVnrType\n"
     ]
    },
    {
     "data": {
      "text/plain": [
       "'Loading transformer OneHotEncodingTransformer for field MasVnrType'"
      ]
     },
     "metadata": {},
     "output_type": "display_data"
    },
    {
     "data": {
      "text/plain": [
       "'Loading transformer OneHotEncodingTransformer for field MasVnrType'"
      ]
     },
     "metadata": {},
     "output_type": "display_data"
    },
    {
     "name": "stderr",
     "output_type": "stream",
     "text": [
      "INFO:sdv.metadata.table:Loading transformer NumericalTransformer for field MasVnrArea\n"
     ]
    },
    {
     "data": {
      "text/plain": [
       "'Loading transformer NumericalTransformer for field MasVnrArea'"
      ]
     },
     "metadata": {},
     "output_type": "display_data"
    },
    {
     "data": {
      "text/plain": [
       "'Loading transformer NumericalTransformer for field MasVnrArea'"
      ]
     },
     "metadata": {},
     "output_type": "display_data"
    },
    {
     "name": "stderr",
     "output_type": "stream",
     "text": [
      "INFO:sdv.metadata.table:Loading transformer OneHotEncodingTransformer for field ExterQual\n"
     ]
    },
    {
     "data": {
      "text/plain": [
       "'Loading transformer OneHotEncodingTransformer for field ExterQual'"
      ]
     },
     "metadata": {},
     "output_type": "display_data"
    },
    {
     "data": {
      "text/plain": [
       "'Loading transformer OneHotEncodingTransformer for field ExterQual'"
      ]
     },
     "metadata": {},
     "output_type": "display_data"
    },
    {
     "name": "stderr",
     "output_type": "stream",
     "text": [
      "INFO:sdv.metadata.table:Loading transformer OneHotEncodingTransformer for field ExterCond\n"
     ]
    },
    {
     "data": {
      "text/plain": [
       "'Loading transformer OneHotEncodingTransformer for field ExterCond'"
      ]
     },
     "metadata": {},
     "output_type": "display_data"
    },
    {
     "data": {
      "text/plain": [
       "'Loading transformer OneHotEncodingTransformer for field ExterCond'"
      ]
     },
     "metadata": {},
     "output_type": "display_data"
    },
    {
     "name": "stderr",
     "output_type": "stream",
     "text": [
      "INFO:sdv.metadata.table:Loading transformer OneHotEncodingTransformer for field Foundation\n"
     ]
    },
    {
     "data": {
      "text/plain": [
       "'Loading transformer OneHotEncodingTransformer for field Foundation'"
      ]
     },
     "metadata": {},
     "output_type": "display_data"
    },
    {
     "data": {
      "text/plain": [
       "'Loading transformer OneHotEncodingTransformer for field Foundation'"
      ]
     },
     "metadata": {},
     "output_type": "display_data"
    },
    {
     "name": "stderr",
     "output_type": "stream",
     "text": [
      "INFO:sdv.metadata.table:Loading transformer OneHotEncodingTransformer for field BsmtQual\n"
     ]
    },
    {
     "data": {
      "text/plain": [
       "'Loading transformer OneHotEncodingTransformer for field BsmtQual'"
      ]
     },
     "metadata": {},
     "output_type": "display_data"
    },
    {
     "data": {
      "text/plain": [
       "'Loading transformer OneHotEncodingTransformer for field BsmtQual'"
      ]
     },
     "metadata": {},
     "output_type": "display_data"
    },
    {
     "name": "stderr",
     "output_type": "stream",
     "text": [
      "INFO:sdv.metadata.table:Loading transformer OneHotEncodingTransformer for field BsmtCond\n"
     ]
    },
    {
     "data": {
      "text/plain": [
       "'Loading transformer OneHotEncodingTransformer for field BsmtCond'"
      ]
     },
     "metadata": {},
     "output_type": "display_data"
    },
    {
     "data": {
      "text/plain": [
       "'Loading transformer OneHotEncodingTransformer for field BsmtCond'"
      ]
     },
     "metadata": {},
     "output_type": "display_data"
    },
    {
     "name": "stderr",
     "output_type": "stream",
     "text": [
      "INFO:sdv.metadata.table:Loading transformer OneHotEncodingTransformer for field BsmtExposure\n"
     ]
    },
    {
     "data": {
      "text/plain": [
       "'Loading transformer OneHotEncodingTransformer for field BsmtExposure'"
      ]
     },
     "metadata": {},
     "output_type": "display_data"
    },
    {
     "data": {
      "text/plain": [
       "'Loading transformer OneHotEncodingTransformer for field BsmtExposure'"
      ]
     },
     "metadata": {},
     "output_type": "display_data"
    },
    {
     "name": "stderr",
     "output_type": "stream",
     "text": [
      "INFO:sdv.metadata.table:Loading transformer OneHotEncodingTransformer for field BsmtFinType1\n"
     ]
    },
    {
     "data": {
      "text/plain": [
       "'Loading transformer OneHotEncodingTransformer for field BsmtFinType1'"
      ]
     },
     "metadata": {},
     "output_type": "display_data"
    },
    {
     "data": {
      "text/plain": [
       "'Loading transformer OneHotEncodingTransformer for field BsmtFinType1'"
      ]
     },
     "metadata": {},
     "output_type": "display_data"
    },
    {
     "name": "stderr",
     "output_type": "stream",
     "text": [
      "INFO:sdv.metadata.table:Loading transformer NumericalTransformer for field BsmtFinSF1\n"
     ]
    },
    {
     "data": {
      "text/plain": [
       "'Loading transformer NumericalTransformer for field BsmtFinSF1'"
      ]
     },
     "metadata": {},
     "output_type": "display_data"
    },
    {
     "data": {
      "text/plain": [
       "'Loading transformer NumericalTransformer for field BsmtFinSF1'"
      ]
     },
     "metadata": {},
     "output_type": "display_data"
    },
    {
     "name": "stderr",
     "output_type": "stream",
     "text": [
      "INFO:sdv.metadata.table:Loading transformer OneHotEncodingTransformer for field BsmtFinType2\n"
     ]
    },
    {
     "data": {
      "text/plain": [
       "'Loading transformer OneHotEncodingTransformer for field BsmtFinType2'"
      ]
     },
     "metadata": {},
     "output_type": "display_data"
    },
    {
     "data": {
      "text/plain": [
       "'Loading transformer OneHotEncodingTransformer for field BsmtFinType2'"
      ]
     },
     "metadata": {},
     "output_type": "display_data"
    },
    {
     "name": "stderr",
     "output_type": "stream",
     "text": [
      "INFO:sdv.metadata.table:Loading transformer NumericalTransformer for field BsmtFinSF2\n"
     ]
    },
    {
     "data": {
      "text/plain": [
       "'Loading transformer NumericalTransformer for field BsmtFinSF2'"
      ]
     },
     "metadata": {},
     "output_type": "display_data"
    },
    {
     "data": {
      "text/plain": [
       "'Loading transformer NumericalTransformer for field BsmtFinSF2'"
      ]
     },
     "metadata": {},
     "output_type": "display_data"
    },
    {
     "name": "stderr",
     "output_type": "stream",
     "text": [
      "INFO:sdv.metadata.table:Loading transformer NumericalTransformer for field BsmtUnfSF\n"
     ]
    },
    {
     "data": {
      "text/plain": [
       "'Loading transformer NumericalTransformer for field BsmtUnfSF'"
      ]
     },
     "metadata": {},
     "output_type": "display_data"
    },
    {
     "data": {
      "text/plain": [
       "'Loading transformer NumericalTransformer for field BsmtUnfSF'"
      ]
     },
     "metadata": {},
     "output_type": "display_data"
    },
    {
     "name": "stderr",
     "output_type": "stream",
     "text": [
      "INFO:sdv.metadata.table:Loading transformer NumericalTransformer for field TotalBsmtSF\n"
     ]
    },
    {
     "data": {
      "text/plain": [
       "'Loading transformer NumericalTransformer for field TotalBsmtSF'"
      ]
     },
     "metadata": {},
     "output_type": "display_data"
    },
    {
     "data": {
      "text/plain": [
       "'Loading transformer NumericalTransformer for field TotalBsmtSF'"
      ]
     },
     "metadata": {},
     "output_type": "display_data"
    },
    {
     "name": "stderr",
     "output_type": "stream",
     "text": [
      "INFO:sdv.metadata.table:Loading transformer OneHotEncodingTransformer for field Heating\n"
     ]
    },
    {
     "data": {
      "text/plain": [
       "'Loading transformer OneHotEncodingTransformer for field Heating'"
      ]
     },
     "metadata": {},
     "output_type": "display_data"
    },
    {
     "data": {
      "text/plain": [
       "'Loading transformer OneHotEncodingTransformer for field Heating'"
      ]
     },
     "metadata": {},
     "output_type": "display_data"
    },
    {
     "name": "stderr",
     "output_type": "stream",
     "text": [
      "INFO:sdv.metadata.table:Loading transformer OneHotEncodingTransformer for field HeatingQC\n"
     ]
    },
    {
     "data": {
      "text/plain": [
       "'Loading transformer OneHotEncodingTransformer for field HeatingQC'"
      ]
     },
     "metadata": {},
     "output_type": "display_data"
    },
    {
     "data": {
      "text/plain": [
       "'Loading transformer OneHotEncodingTransformer for field HeatingQC'"
      ]
     },
     "metadata": {},
     "output_type": "display_data"
    },
    {
     "name": "stderr",
     "output_type": "stream",
     "text": [
      "INFO:sdv.metadata.table:Loading transformer OneHotEncodingTransformer for field CentralAir\n"
     ]
    },
    {
     "data": {
      "text/plain": [
       "'Loading transformer OneHotEncodingTransformer for field CentralAir'"
      ]
     },
     "metadata": {},
     "output_type": "display_data"
    },
    {
     "data": {
      "text/plain": [
       "'Loading transformer OneHotEncodingTransformer for field CentralAir'"
      ]
     },
     "metadata": {},
     "output_type": "display_data"
    },
    {
     "name": "stderr",
     "output_type": "stream",
     "text": [
      "INFO:sdv.metadata.table:Loading transformer OneHotEncodingTransformer for field Electrical\n"
     ]
    },
    {
     "data": {
      "text/plain": [
       "'Loading transformer OneHotEncodingTransformer for field Electrical'"
      ]
     },
     "metadata": {},
     "output_type": "display_data"
    },
    {
     "data": {
      "text/plain": [
       "'Loading transformer OneHotEncodingTransformer for field Electrical'"
      ]
     },
     "metadata": {},
     "output_type": "display_data"
    },
    {
     "name": "stderr",
     "output_type": "stream",
     "text": [
      "INFO:sdv.metadata.table:Loading transformer NumericalTransformer for field 1stFlrSF\n"
     ]
    },
    {
     "data": {
      "text/plain": [
       "'Loading transformer NumericalTransformer for field 1stFlrSF'"
      ]
     },
     "metadata": {},
     "output_type": "display_data"
    },
    {
     "data": {
      "text/plain": [
       "'Loading transformer NumericalTransformer for field 1stFlrSF'"
      ]
     },
     "metadata": {},
     "output_type": "display_data"
    },
    {
     "name": "stderr",
     "output_type": "stream",
     "text": [
      "INFO:sdv.metadata.table:Loading transformer NumericalTransformer for field 2ndFlrSF\n"
     ]
    },
    {
     "data": {
      "text/plain": [
       "'Loading transformer NumericalTransformer for field 2ndFlrSF'"
      ]
     },
     "metadata": {},
     "output_type": "display_data"
    },
    {
     "data": {
      "text/plain": [
       "'Loading transformer NumericalTransformer for field 2ndFlrSF'"
      ]
     },
     "metadata": {},
     "output_type": "display_data"
    },
    {
     "name": "stderr",
     "output_type": "stream",
     "text": [
      "INFO:sdv.metadata.table:Loading transformer NumericalTransformer for field LowQualFinSF\n"
     ]
    },
    {
     "data": {
      "text/plain": [
       "'Loading transformer NumericalTransformer for field LowQualFinSF'"
      ]
     },
     "metadata": {},
     "output_type": "display_data"
    },
    {
     "data": {
      "text/plain": [
       "'Loading transformer NumericalTransformer for field LowQualFinSF'"
      ]
     },
     "metadata": {},
     "output_type": "display_data"
    },
    {
     "name": "stderr",
     "output_type": "stream",
     "text": [
      "INFO:sdv.metadata.table:Loading transformer NumericalTransformer for field GrLivArea\n"
     ]
    },
    {
     "data": {
      "text/plain": [
       "'Loading transformer NumericalTransformer for field GrLivArea'"
      ]
     },
     "metadata": {},
     "output_type": "display_data"
    },
    {
     "data": {
      "text/plain": [
       "'Loading transformer NumericalTransformer for field GrLivArea'"
      ]
     },
     "metadata": {},
     "output_type": "display_data"
    },
    {
     "name": "stderr",
     "output_type": "stream",
     "text": [
      "INFO:sdv.metadata.table:Loading transformer NumericalTransformer for field BsmtFullBath\n"
     ]
    },
    {
     "data": {
      "text/plain": [
       "'Loading transformer NumericalTransformer for field BsmtFullBath'"
      ]
     },
     "metadata": {},
     "output_type": "display_data"
    },
    {
     "data": {
      "text/plain": [
       "'Loading transformer NumericalTransformer for field BsmtFullBath'"
      ]
     },
     "metadata": {},
     "output_type": "display_data"
    },
    {
     "name": "stderr",
     "output_type": "stream",
     "text": [
      "INFO:sdv.metadata.table:Loading transformer NumericalTransformer for field BsmtHalfBath\n"
     ]
    },
    {
     "data": {
      "text/plain": [
       "'Loading transformer NumericalTransformer for field BsmtHalfBath'"
      ]
     },
     "metadata": {},
     "output_type": "display_data"
    },
    {
     "data": {
      "text/plain": [
       "'Loading transformer NumericalTransformer for field BsmtHalfBath'"
      ]
     },
     "metadata": {},
     "output_type": "display_data"
    },
    {
     "name": "stderr",
     "output_type": "stream",
     "text": [
      "INFO:sdv.metadata.table:Loading transformer NumericalTransformer for field FullBath\n"
     ]
    },
    {
     "data": {
      "text/plain": [
       "'Loading transformer NumericalTransformer for field FullBath'"
      ]
     },
     "metadata": {},
     "output_type": "display_data"
    },
    {
     "data": {
      "text/plain": [
       "'Loading transformer NumericalTransformer for field FullBath'"
      ]
     },
     "metadata": {},
     "output_type": "display_data"
    },
    {
     "name": "stderr",
     "output_type": "stream",
     "text": [
      "INFO:sdv.metadata.table:Loading transformer NumericalTransformer for field HalfBath\n"
     ]
    },
    {
     "data": {
      "text/plain": [
       "'Loading transformer NumericalTransformer for field HalfBath'"
      ]
     },
     "metadata": {},
     "output_type": "display_data"
    },
    {
     "data": {
      "text/plain": [
       "'Loading transformer NumericalTransformer for field HalfBath'"
      ]
     },
     "metadata": {},
     "output_type": "display_data"
    },
    {
     "name": "stderr",
     "output_type": "stream",
     "text": [
      "INFO:sdv.metadata.table:Loading transformer NumericalTransformer for field BedroomAbvGr\n"
     ]
    },
    {
     "data": {
      "text/plain": [
       "'Loading transformer NumericalTransformer for field BedroomAbvGr'"
      ]
     },
     "metadata": {},
     "output_type": "display_data"
    },
    {
     "data": {
      "text/plain": [
       "'Loading transformer NumericalTransformer for field BedroomAbvGr'"
      ]
     },
     "metadata": {},
     "output_type": "display_data"
    },
    {
     "name": "stderr",
     "output_type": "stream",
     "text": [
      "INFO:sdv.metadata.table:Loading transformer NumericalTransformer for field KitchenAbvGr\n"
     ]
    },
    {
     "data": {
      "text/plain": [
       "'Loading transformer NumericalTransformer for field KitchenAbvGr'"
      ]
     },
     "metadata": {},
     "output_type": "display_data"
    },
    {
     "data": {
      "text/plain": [
       "'Loading transformer NumericalTransformer for field KitchenAbvGr'"
      ]
     },
     "metadata": {},
     "output_type": "display_data"
    },
    {
     "name": "stderr",
     "output_type": "stream",
     "text": [
      "INFO:sdv.metadata.table:Loading transformer OneHotEncodingTransformer for field KitchenQual\n"
     ]
    },
    {
     "data": {
      "text/plain": [
       "'Loading transformer OneHotEncodingTransformer for field KitchenQual'"
      ]
     },
     "metadata": {},
     "output_type": "display_data"
    },
    {
     "data": {
      "text/plain": [
       "'Loading transformer OneHotEncodingTransformer for field KitchenQual'"
      ]
     },
     "metadata": {},
     "output_type": "display_data"
    },
    {
     "name": "stderr",
     "output_type": "stream",
     "text": [
      "INFO:sdv.metadata.table:Loading transformer NumericalTransformer for field TotRmsAbvGrd\n"
     ]
    },
    {
     "data": {
      "text/plain": [
       "'Loading transformer NumericalTransformer for field TotRmsAbvGrd'"
      ]
     },
     "metadata": {},
     "output_type": "display_data"
    },
    {
     "data": {
      "text/plain": [
       "'Loading transformer NumericalTransformer for field TotRmsAbvGrd'"
      ]
     },
     "metadata": {},
     "output_type": "display_data"
    },
    {
     "name": "stderr",
     "output_type": "stream",
     "text": [
      "INFO:sdv.metadata.table:Loading transformer OneHotEncodingTransformer for field Functional\n"
     ]
    },
    {
     "data": {
      "text/plain": [
       "'Loading transformer OneHotEncodingTransformer for field Functional'"
      ]
     },
     "metadata": {},
     "output_type": "display_data"
    },
    {
     "data": {
      "text/plain": [
       "'Loading transformer OneHotEncodingTransformer for field Functional'"
      ]
     },
     "metadata": {},
     "output_type": "display_data"
    },
    {
     "name": "stderr",
     "output_type": "stream",
     "text": [
      "INFO:sdv.metadata.table:Loading transformer NumericalTransformer for field Fireplaces\n"
     ]
    },
    {
     "data": {
      "text/plain": [
       "'Loading transformer NumericalTransformer for field Fireplaces'"
      ]
     },
     "metadata": {},
     "output_type": "display_data"
    },
    {
     "data": {
      "text/plain": [
       "'Loading transformer NumericalTransformer for field Fireplaces'"
      ]
     },
     "metadata": {},
     "output_type": "display_data"
    },
    {
     "name": "stderr",
     "output_type": "stream",
     "text": [
      "INFO:sdv.metadata.table:Loading transformer OneHotEncodingTransformer for field FireplaceQu\n"
     ]
    },
    {
     "data": {
      "text/plain": [
       "'Loading transformer OneHotEncodingTransformer for field FireplaceQu'"
      ]
     },
     "metadata": {},
     "output_type": "display_data"
    },
    {
     "data": {
      "text/plain": [
       "'Loading transformer OneHotEncodingTransformer for field FireplaceQu'"
      ]
     },
     "metadata": {},
     "output_type": "display_data"
    },
    {
     "name": "stderr",
     "output_type": "stream",
     "text": [
      "INFO:sdv.metadata.table:Loading transformer OneHotEncodingTransformer for field GarageType\n"
     ]
    },
    {
     "data": {
      "text/plain": [
       "'Loading transformer OneHotEncodingTransformer for field GarageType'"
      ]
     },
     "metadata": {},
     "output_type": "display_data"
    },
    {
     "data": {
      "text/plain": [
       "'Loading transformer OneHotEncodingTransformer for field GarageType'"
      ]
     },
     "metadata": {},
     "output_type": "display_data"
    },
    {
     "name": "stderr",
     "output_type": "stream",
     "text": [
      "INFO:sdv.metadata.table:Loading transformer NumericalTransformer for field GarageYrBlt\n"
     ]
    },
    {
     "data": {
      "text/plain": [
       "'Loading transformer NumericalTransformer for field GarageYrBlt'"
      ]
     },
     "metadata": {},
     "output_type": "display_data"
    },
    {
     "data": {
      "text/plain": [
       "'Loading transformer NumericalTransformer for field GarageYrBlt'"
      ]
     },
     "metadata": {},
     "output_type": "display_data"
    },
    {
     "name": "stderr",
     "output_type": "stream",
     "text": [
      "INFO:sdv.metadata.table:Loading transformer OneHotEncodingTransformer for field GarageFinish\n"
     ]
    },
    {
     "data": {
      "text/plain": [
       "'Loading transformer OneHotEncodingTransformer for field GarageFinish'"
      ]
     },
     "metadata": {},
     "output_type": "display_data"
    },
    {
     "data": {
      "text/plain": [
       "'Loading transformer OneHotEncodingTransformer for field GarageFinish'"
      ]
     },
     "metadata": {},
     "output_type": "display_data"
    },
    {
     "name": "stderr",
     "output_type": "stream",
     "text": [
      "INFO:sdv.metadata.table:Loading transformer NumericalTransformer for field GarageCars\n"
     ]
    },
    {
     "data": {
      "text/plain": [
       "'Loading transformer NumericalTransformer for field GarageCars'"
      ]
     },
     "metadata": {},
     "output_type": "display_data"
    },
    {
     "data": {
      "text/plain": [
       "'Loading transformer NumericalTransformer for field GarageCars'"
      ]
     },
     "metadata": {},
     "output_type": "display_data"
    },
    {
     "name": "stderr",
     "output_type": "stream",
     "text": [
      "INFO:sdv.metadata.table:Loading transformer NumericalTransformer for field GarageArea\n"
     ]
    },
    {
     "data": {
      "text/plain": [
       "'Loading transformer NumericalTransformer for field GarageArea'"
      ]
     },
     "metadata": {},
     "output_type": "display_data"
    },
    {
     "data": {
      "text/plain": [
       "'Loading transformer NumericalTransformer for field GarageArea'"
      ]
     },
     "metadata": {},
     "output_type": "display_data"
    },
    {
     "name": "stderr",
     "output_type": "stream",
     "text": [
      "INFO:sdv.metadata.table:Loading transformer OneHotEncodingTransformer for field GarageQual\n"
     ]
    },
    {
     "data": {
      "text/plain": [
       "'Loading transformer OneHotEncodingTransformer for field GarageQual'"
      ]
     },
     "metadata": {},
     "output_type": "display_data"
    },
    {
     "data": {
      "text/plain": [
       "'Loading transformer OneHotEncodingTransformer for field GarageQual'"
      ]
     },
     "metadata": {},
     "output_type": "display_data"
    },
    {
     "name": "stderr",
     "output_type": "stream",
     "text": [
      "INFO:sdv.metadata.table:Loading transformer OneHotEncodingTransformer for field GarageCond\n"
     ]
    },
    {
     "data": {
      "text/plain": [
       "'Loading transformer OneHotEncodingTransformer for field GarageCond'"
      ]
     },
     "metadata": {},
     "output_type": "display_data"
    },
    {
     "data": {
      "text/plain": [
       "'Loading transformer OneHotEncodingTransformer for field GarageCond'"
      ]
     },
     "metadata": {},
     "output_type": "display_data"
    },
    {
     "name": "stderr",
     "output_type": "stream",
     "text": [
      "INFO:sdv.metadata.table:Loading transformer OneHotEncodingTransformer for field PavedDrive\n"
     ]
    },
    {
     "data": {
      "text/plain": [
       "'Loading transformer OneHotEncodingTransformer for field PavedDrive'"
      ]
     },
     "metadata": {},
     "output_type": "display_data"
    },
    {
     "data": {
      "text/plain": [
       "'Loading transformer OneHotEncodingTransformer for field PavedDrive'"
      ]
     },
     "metadata": {},
     "output_type": "display_data"
    },
    {
     "name": "stderr",
     "output_type": "stream",
     "text": [
      "INFO:sdv.metadata.table:Loading transformer NumericalTransformer for field WoodDeckSF\n"
     ]
    },
    {
     "data": {
      "text/plain": [
       "'Loading transformer NumericalTransformer for field WoodDeckSF'"
      ]
     },
     "metadata": {},
     "output_type": "display_data"
    },
    {
     "data": {
      "text/plain": [
       "'Loading transformer NumericalTransformer for field WoodDeckSF'"
      ]
     },
     "metadata": {},
     "output_type": "display_data"
    },
    {
     "name": "stderr",
     "output_type": "stream",
     "text": [
      "INFO:sdv.metadata.table:Loading transformer NumericalTransformer for field OpenPorchSF\n"
     ]
    },
    {
     "data": {
      "text/plain": [
       "'Loading transformer NumericalTransformer for field OpenPorchSF'"
      ]
     },
     "metadata": {},
     "output_type": "display_data"
    },
    {
     "data": {
      "text/plain": [
       "'Loading transformer NumericalTransformer for field OpenPorchSF'"
      ]
     },
     "metadata": {},
     "output_type": "display_data"
    },
    {
     "name": "stderr",
     "output_type": "stream",
     "text": [
      "INFO:sdv.metadata.table:Loading transformer NumericalTransformer for field EnclosedPorch\n"
     ]
    },
    {
     "data": {
      "text/plain": [
       "'Loading transformer NumericalTransformer for field EnclosedPorch'"
      ]
     },
     "metadata": {},
     "output_type": "display_data"
    },
    {
     "data": {
      "text/plain": [
       "'Loading transformer NumericalTransformer for field EnclosedPorch'"
      ]
     },
     "metadata": {},
     "output_type": "display_data"
    },
    {
     "name": "stderr",
     "output_type": "stream",
     "text": [
      "INFO:sdv.metadata.table:Loading transformer NumericalTransformer for field 3SsnPorch\n"
     ]
    },
    {
     "data": {
      "text/plain": [
       "'Loading transformer NumericalTransformer for field 3SsnPorch'"
      ]
     },
     "metadata": {},
     "output_type": "display_data"
    },
    {
     "data": {
      "text/plain": [
       "'Loading transformer NumericalTransformer for field 3SsnPorch'"
      ]
     },
     "metadata": {},
     "output_type": "display_data"
    },
    {
     "name": "stderr",
     "output_type": "stream",
     "text": [
      "INFO:sdv.metadata.table:Loading transformer NumericalTransformer for field ScreenPorch\n"
     ]
    },
    {
     "data": {
      "text/plain": [
       "'Loading transformer NumericalTransformer for field ScreenPorch'"
      ]
     },
     "metadata": {},
     "output_type": "display_data"
    },
    {
     "data": {
      "text/plain": [
       "'Loading transformer NumericalTransformer for field ScreenPorch'"
      ]
     },
     "metadata": {},
     "output_type": "display_data"
    },
    {
     "name": "stderr",
     "output_type": "stream",
     "text": [
      "INFO:sdv.metadata.table:Loading transformer NumericalTransformer for field PoolArea\n"
     ]
    },
    {
     "data": {
      "text/plain": [
       "'Loading transformer NumericalTransformer for field PoolArea'"
      ]
     },
     "metadata": {},
     "output_type": "display_data"
    },
    {
     "data": {
      "text/plain": [
       "'Loading transformer NumericalTransformer for field PoolArea'"
      ]
     },
     "metadata": {},
     "output_type": "display_data"
    },
    {
     "name": "stderr",
     "output_type": "stream",
     "text": [
      "INFO:sdv.metadata.table:Loading transformer OneHotEncodingTransformer for field PoolQC\n"
     ]
    },
    {
     "data": {
      "text/plain": [
       "'Loading transformer OneHotEncodingTransformer for field PoolQC'"
      ]
     },
     "metadata": {},
     "output_type": "display_data"
    },
    {
     "data": {
      "text/plain": [
       "'Loading transformer OneHotEncodingTransformer for field PoolQC'"
      ]
     },
     "metadata": {},
     "output_type": "display_data"
    },
    {
     "name": "stderr",
     "output_type": "stream",
     "text": [
      "INFO:sdv.metadata.table:Loading transformer OneHotEncodingTransformer for field Fence\n"
     ]
    },
    {
     "data": {
      "text/plain": [
       "'Loading transformer OneHotEncodingTransformer for field Fence'"
      ]
     },
     "metadata": {},
     "output_type": "display_data"
    },
    {
     "data": {
      "text/plain": [
       "'Loading transformer OneHotEncodingTransformer for field Fence'"
      ]
     },
     "metadata": {},
     "output_type": "display_data"
    },
    {
     "name": "stderr",
     "output_type": "stream",
     "text": [
      "INFO:sdv.metadata.table:Loading transformer OneHotEncodingTransformer for field MiscFeature\n"
     ]
    },
    {
     "data": {
      "text/plain": [
       "'Loading transformer OneHotEncodingTransformer for field MiscFeature'"
      ]
     },
     "metadata": {},
     "output_type": "display_data"
    },
    {
     "data": {
      "text/plain": [
       "'Loading transformer OneHotEncodingTransformer for field MiscFeature'"
      ]
     },
     "metadata": {},
     "output_type": "display_data"
    },
    {
     "name": "stderr",
     "output_type": "stream",
     "text": [
      "INFO:sdv.metadata.table:Loading transformer NumericalTransformer for field MiscVal\n"
     ]
    },
    {
     "data": {
      "text/plain": [
       "'Loading transformer NumericalTransformer for field MiscVal'"
      ]
     },
     "metadata": {},
     "output_type": "display_data"
    },
    {
     "data": {
      "text/plain": [
       "'Loading transformer NumericalTransformer for field MiscVal'"
      ]
     },
     "metadata": {},
     "output_type": "display_data"
    },
    {
     "name": "stderr",
     "output_type": "stream",
     "text": [
      "INFO:sdv.metadata.table:Loading transformer NumericalTransformer for field MoSold\n"
     ]
    },
    {
     "data": {
      "text/plain": [
       "'Loading transformer NumericalTransformer for field MoSold'"
      ]
     },
     "metadata": {},
     "output_type": "display_data"
    },
    {
     "data": {
      "text/plain": [
       "'Loading transformer NumericalTransformer for field MoSold'"
      ]
     },
     "metadata": {},
     "output_type": "display_data"
    },
    {
     "name": "stderr",
     "output_type": "stream",
     "text": [
      "INFO:sdv.metadata.table:Loading transformer NumericalTransformer for field YrSold\n"
     ]
    },
    {
     "data": {
      "text/plain": [
       "'Loading transformer NumericalTransformer for field YrSold'"
      ]
     },
     "metadata": {},
     "output_type": "display_data"
    },
    {
     "data": {
      "text/plain": [
       "'Loading transformer NumericalTransformer for field YrSold'"
      ]
     },
     "metadata": {},
     "output_type": "display_data"
    },
    {
     "name": "stderr",
     "output_type": "stream",
     "text": [
      "INFO:sdv.metadata.table:Loading transformer OneHotEncodingTransformer for field SaleType\n"
     ]
    },
    {
     "data": {
      "text/plain": [
       "'Loading transformer OneHotEncodingTransformer for field SaleType'"
      ]
     },
     "metadata": {},
     "output_type": "display_data"
    },
    {
     "data": {
      "text/plain": [
       "'Loading transformer OneHotEncodingTransformer for field SaleType'"
      ]
     },
     "metadata": {},
     "output_type": "display_data"
    },
    {
     "name": "stderr",
     "output_type": "stream",
     "text": [
      "INFO:sdv.metadata.table:Loading transformer OneHotEncodingTransformer for field SaleCondition\n"
     ]
    },
    {
     "data": {
      "text/plain": [
       "'Loading transformer OneHotEncodingTransformer for field SaleCondition'"
      ]
     },
     "metadata": {},
     "output_type": "display_data"
    },
    {
     "data": {
      "text/plain": [
       "'Loading transformer OneHotEncodingTransformer for field SaleCondition'"
      ]
     },
     "metadata": {},
     "output_type": "display_data"
    },
    {
     "name": "stderr",
     "output_type": "stream",
     "text": [
      "INFO:sdv.metadata.table:Loading transformer NumericalTransformer for field SalePrice\n"
     ]
    },
    {
     "data": {
      "text/plain": [
       "'Loading transformer NumericalTransformer for field SalePrice'"
      ]
     },
     "metadata": {},
     "output_type": "display_data"
    },
    {
     "data": {
      "text/plain": [
       "'Loading transformer NumericalTransformer for field SalePrice'"
      ]
     },
     "metadata": {},
     "output_type": "display_data"
    },
    {
     "name": "stderr",
     "output_type": "stream",
     "text": [
      "INFO:copulas.multivariate.gaussian:Fitting GaussianMultivariate()\n"
     ]
    },
    {
     "data": {
      "text/plain": [
       "'Fitting GaussianMultivariate()'"
      ]
     },
     "metadata": {},
     "output_type": "display_data"
    },
    {
     "data": {
      "text/plain": [
       "'Fitting GaussianMultivariate()'"
      ]
     },
     "metadata": {},
     "output_type": "display_data"
    },
    {
     "name": "stderr",
     "output_type": "stream",
     "text": [
      "INFO:root:Training time cost: 101.99387669563293\n"
     ]
    },
    {
     "data": {
      "text/plain": [
       "'Training time cost: 101.99387669563293'"
      ]
     },
     "metadata": {},
     "output_type": "display_data"
    },
    {
     "data": {
      "text/plain": [
       "'Training time cost: 101.99387669563293'"
      ]
     },
     "metadata": {},
     "output_type": "display_data"
    },
    {
     "name": "stderr",
     "output_type": "stream",
     "text": [
      "INFO:root:Save model to output/syn_model_GaussianCopula.pkl\n"
     ]
    },
    {
     "data": {
      "text/plain": [
       "'Save model to output/syn_model_GaussianCopula.pkl'"
      ]
     },
     "metadata": {},
     "output_type": "display_data"
    },
    {
     "data": {
      "text/plain": [
       "'Save model to output/syn_model_GaussianCopula.pkl'"
      ]
     },
     "metadata": {},
     "output_type": "display_data"
    },
    {
     "name": "stderr",
     "output_type": "stream",
     "text": [
      "INFO:root:output dataframe shape\n"
     ]
    },
    {
     "data": {
      "text/plain": [
       "'output dataframe shape'"
      ]
     },
     "metadata": {},
     "output_type": "display_data"
    },
    {
     "data": {
      "text/plain": [
       "'output dataframe shape'"
      ]
     },
     "metadata": {},
     "output_type": "display_data"
    },
    {
     "name": "stderr",
     "output_type": "stream",
     "text": [
      "INFO:root:(100, 81)\n"
     ]
    },
    {
     "data": {
      "text/plain": [
       "'(100, 81)'"
      ]
     },
     "metadata": {},
     "output_type": "display_data"
    },
    {
     "data": {
      "text/plain": [
       "'(100, 81)'"
      ]
     },
     "metadata": {},
     "output_type": "display_data"
    },
    {
     "name": "stderr",
     "output_type": "stream",
     "text": [
      "INFO:root:output dataframe head(5)\n"
     ]
    },
    {
     "data": {
      "text/plain": [
       "'output dataframe head(5)'"
      ]
     },
     "metadata": {},
     "output_type": "display_data"
    },
    {
     "data": {
      "text/plain": [
       "'output dataframe head(5)'"
      ]
     },
     "metadata": {},
     "output_type": "display_data"
    },
    {
     "name": "stderr",
     "output_type": "stream",
     "text": [
      "INFO:root:   Id  MSSubClass MSZoning  LotFrontage  LotArea Street Alley LotShape  \\\n",
      "0   0         147       RL    77.675637    13479   Pave  Grvl      IR1   \n",
      "1   1          72       RL    55.645749     9367   Pave   NaN      IR1   \n",
      "2   2          14       RL    50.562488    -1949   Pave  Grvl      Reg   \n",
      "3   3          70       RL    72.056896    11284   Pave   NaN      IR1   \n",
      "4   4          65       RL          NaN     7667   Pave   NaN      Reg   \n",
      "\n",
      "  LandContour Utilities  ... PoolArea PoolQC Fence MiscFeature MiscVal MoSold  \\\n",
      "0         Lvl    AllPub  ...       -6    NaN   NaN         NaN     -11      6   \n",
      "1         Lvl    AllPub  ...        4    NaN   NaN         NaN      26     11   \n",
      "2         Bnk    AllPub  ...      -22    NaN   NaN         NaN      75      5   \n",
      "3         Low    AllPub  ...       13    NaN   NaN         NaN      87      5   \n",
      "4         Lvl    AllPub  ...      -10    NaN   NaN         NaN       7     11   \n",
      "\n",
      "  YrSold  SaleType  SaleCondition  SalePrice  \n",
      "0   2010        WD         Normal     390483  \n",
      "1   2009        WD         Normal     208833  \n",
      "2   2010     ConLw         Normal     113121  \n",
      "3   2009        WD         Normal     141922  \n",
      "4   2008        WD         Normal     261530  \n",
      "\n",
      "[5 rows x 81 columns]\n"
     ]
    },
    {
     "data": {
      "text/plain": [
       "'   Id  MSSubClass MSZoning  LotFrontage  LotArea Street Alley LotShape  \\\\\\n0   0         147       RL    77.675637    13479   Pave  Grvl      IR1   \\n1   1          72       RL    55.645749     9367   Pave   NaN      IR1   \\n2   2          14       RL    50.562488    -1949   Pave  Grvl      Reg   \\n3   3          70       RL    72.056896    11284   Pave   NaN      IR1   \\n4   4          65       RL          NaN     7667   Pave   NaN      Reg   \\n\\n  LandContour Utilities  ... PoolArea PoolQC Fence MiscFeature MiscVal MoSold  \\\\\\n0         Lvl    AllPub  ...       -6    NaN   NaN         NaN     -11      6   \\n1         Lvl    AllPub  ...        4    NaN   NaN         NaN      26     11   \\n2         Bnk    AllPub  ...      -22    NaN   NaN         NaN      75      5   \\n3         Low    AllPub  ...       13    NaN   NaN         NaN      87      5   \\n4         Lvl    AllPub  ...      -10    NaN   NaN         NaN       7     11   \\n\\n  YrSold  SaleType  SaleCondition  SalePrice  \\n0   2010        WD         Normal     390483  \\n1   2009        WD         Normal     208833  \\n2   2010     ConLw         Normal     113121  \\n3   2009        WD         Normal     141922  \\n4   2008        WD         Normal     261530  \\n\\n[5 rows x 81 columns]'"
      ]
     },
     "metadata": {},
     "output_type": "display_data"
    },
    {
     "data": {
      "text/plain": [
       "'   Id  MSSubClass MSZoning  LotFrontage  LotArea Street Alley LotShape  \\\\\\n0   0         147       RL    77.675637    13479   Pave  Grvl      IR1   \\n1   1          72       RL    55.645749     9367   Pave   NaN      IR1   \\n2   2          14       RL    50.562488    -1949   Pave  Grvl      Reg   \\n3   3          70       RL    72.056896    11284   Pave   NaN      IR1   \\n4   4          65       RL          NaN     7667   Pave   NaN      Reg   \\n\\n  LandContour Utilities  ... PoolArea PoolQC Fence MiscFeature MiscVal MoSold  \\\\\\n0         Lvl    AllPub  ...       -6    NaN   NaN         NaN     -11      6   \\n1         Lvl    AllPub  ...        4    NaN   NaN         NaN      26     11   \\n2         Bnk    AllPub  ...      -22    NaN   NaN         NaN      75      5   \\n3         Low    AllPub  ...       13    NaN   NaN         NaN      87      5   \\n4         Lvl    AllPub  ...      -10    NaN   NaN         NaN       7     11   \\n\\n  YrSold  SaleType  SaleCondition  SalePrice  \\n0   2010        WD         Normal     390483  \\n1   2009        WD         Normal     208833  \\n2   2010     ConLw         Normal     113121  \\n3   2009        WD         Normal     141922  \\n4   2008        WD         Normal     261530  \\n\\n[5 rows x 81 columns]'"
      ]
     },
     "metadata": {},
     "output_type": "display_data"
    }
   ],
   "source": [
    "args = set_args([\n",
    "    \"--input_path\", \"input/data.csv\", # input 真實資料 csv 格式的表單\n",
    "    \"--output_dir\", \"output/\",   # 合成資料輸出路徑\n",
    "    \"--synth_model\", \"GaussianCopula\",  # 合成資料模型演算法\n",
    "    \"--primary_key\", \"Id\",  # key 欄位名稱\n",
    "    \"--num_rows\", \"100\",  # 生成的資料筆數\n",
    "    \"--save_model\",    # 設定模型\n",
    "    \"--save_output\"    # 設定儲存\n",
    "])\n",
    "\n",
    "main(args)"
   ]
  },
  {
   "cell_type": "code",
   "execution_count": null,
   "id": "bf3625de-100b-4215-8b14-020e77c290a9",
   "metadata": {},
   "outputs": [],
   "source": []
  },
  {
   "cell_type": "markdown",
   "id": "c1265fab-e208-46c8-9baa-236c0ec19a4a",
   "metadata": {},
   "source": [
    "## 檢視真實資料與合成資料表單"
   ]
  },
  {
   "cell_type": "code",
   "execution_count": 8,
   "id": "16c948f2-e417-4192-b8c1-9ecc713bf503",
   "metadata": {},
   "outputs": [],
   "source": [
    "import pandas as pd\n",
    "\n",
    "real_data_df = pd.read_csv(\"input/data.csv\")  # 真實資料路徑\n",
    "syn_data_df = pd.read_csv(\"output/data_GaussianCopula_output.csv\")  # 合成資料預設檔名為: 真實資料檔名 + \"_GaussianCopula_output\""
   ]
  },
  {
   "cell_type": "code",
   "execution_count": 9,
   "id": "47de27b9-63dd-4d28-ba3b-da55a3e63c45",
   "metadata": {},
   "outputs": [
    {
     "data": {
      "text/html": [
       "<div>\n",
       "<style scoped>\n",
       "    .dataframe tbody tr th:only-of-type {\n",
       "        vertical-align: middle;\n",
       "    }\n",
       "\n",
       "    .dataframe tbody tr th {\n",
       "        vertical-align: top;\n",
       "    }\n",
       "\n",
       "    .dataframe thead th {\n",
       "        text-align: right;\n",
       "    }\n",
       "</style>\n",
       "<table border=\"1\" class=\"dataframe\">\n",
       "  <thead>\n",
       "    <tr style=\"text-align: right;\">\n",
       "      <th></th>\n",
       "      <th>Id</th>\n",
       "      <th>MSSubClass</th>\n",
       "      <th>MSZoning</th>\n",
       "      <th>LotFrontage</th>\n",
       "      <th>LotArea</th>\n",
       "      <th>Street</th>\n",
       "      <th>Alley</th>\n",
       "      <th>LotShape</th>\n",
       "      <th>LandContour</th>\n",
       "      <th>Utilities</th>\n",
       "      <th>...</th>\n",
       "      <th>PoolArea</th>\n",
       "      <th>PoolQC</th>\n",
       "      <th>Fence</th>\n",
       "      <th>MiscFeature</th>\n",
       "      <th>MiscVal</th>\n",
       "      <th>MoSold</th>\n",
       "      <th>YrSold</th>\n",
       "      <th>SaleType</th>\n",
       "      <th>SaleCondition</th>\n",
       "      <th>SalePrice</th>\n",
       "    </tr>\n",
       "  </thead>\n",
       "  <tbody>\n",
       "    <tr>\n",
       "      <th>0</th>\n",
       "      <td>1118</td>\n",
       "      <td>20</td>\n",
       "      <td>RL</td>\n",
       "      <td>57.0</td>\n",
       "      <td>9764</td>\n",
       "      <td>Pave</td>\n",
       "      <td>NaN</td>\n",
       "      <td>IR1</td>\n",
       "      <td>Lvl</td>\n",
       "      <td>AllPub</td>\n",
       "      <td>...</td>\n",
       "      <td>0</td>\n",
       "      <td>NaN</td>\n",
       "      <td>NaN</td>\n",
       "      <td>NaN</td>\n",
       "      <td>0</td>\n",
       "      <td>5</td>\n",
       "      <td>2008</td>\n",
       "      <td>WD</td>\n",
       "      <td>Normal</td>\n",
       "      <td>130000</td>\n",
       "    </tr>\n",
       "    <tr>\n",
       "      <th>1</th>\n",
       "      <td>903</td>\n",
       "      <td>60</td>\n",
       "      <td>RL</td>\n",
       "      <td>63.0</td>\n",
       "      <td>7875</td>\n",
       "      <td>Pave</td>\n",
       "      <td>NaN</td>\n",
       "      <td>Reg</td>\n",
       "      <td>Lvl</td>\n",
       "      <td>AllPub</td>\n",
       "      <td>...</td>\n",
       "      <td>0</td>\n",
       "      <td>NaN</td>\n",
       "      <td>NaN</td>\n",
       "      <td>NaN</td>\n",
       "      <td>0</td>\n",
       "      <td>7</td>\n",
       "      <td>2006</td>\n",
       "      <td>WD</td>\n",
       "      <td>Normal</td>\n",
       "      <td>180000</td>\n",
       "    </tr>\n",
       "    <tr>\n",
       "      <th>2</th>\n",
       "      <td>658</td>\n",
       "      <td>70</td>\n",
       "      <td>RL</td>\n",
       "      <td>60.0</td>\n",
       "      <td>7200</td>\n",
       "      <td>Pave</td>\n",
       "      <td>NaN</td>\n",
       "      <td>Reg</td>\n",
       "      <td>HLS</td>\n",
       "      <td>AllPub</td>\n",
       "      <td>...</td>\n",
       "      <td>0</td>\n",
       "      <td>NaN</td>\n",
       "      <td>MnPrv</td>\n",
       "      <td>NaN</td>\n",
       "      <td>0</td>\n",
       "      <td>2</td>\n",
       "      <td>2008</td>\n",
       "      <td>WD</td>\n",
       "      <td>Normal</td>\n",
       "      <td>149000</td>\n",
       "    </tr>\n",
       "    <tr>\n",
       "      <th>3</th>\n",
       "      <td>339</td>\n",
       "      <td>20</td>\n",
       "      <td>RL</td>\n",
       "      <td>91.0</td>\n",
       "      <td>14145</td>\n",
       "      <td>Pave</td>\n",
       "      <td>NaN</td>\n",
       "      <td>Reg</td>\n",
       "      <td>Lvl</td>\n",
       "      <td>AllPub</td>\n",
       "      <td>...</td>\n",
       "      <td>0</td>\n",
       "      <td>NaN</td>\n",
       "      <td>NaN</td>\n",
       "      <td>Shed</td>\n",
       "      <td>400</td>\n",
       "      <td>5</td>\n",
       "      <td>2006</td>\n",
       "      <td>WD</td>\n",
       "      <td>Normal</td>\n",
       "      <td>202500</td>\n",
       "    </tr>\n",
       "    <tr>\n",
       "      <th>4</th>\n",
       "      <td>341</td>\n",
       "      <td>60</td>\n",
       "      <td>RL</td>\n",
       "      <td>85.0</td>\n",
       "      <td>14191</td>\n",
       "      <td>Pave</td>\n",
       "      <td>NaN</td>\n",
       "      <td>Reg</td>\n",
       "      <td>Lvl</td>\n",
       "      <td>AllPub</td>\n",
       "      <td>...</td>\n",
       "      <td>0</td>\n",
       "      <td>NaN</td>\n",
       "      <td>NaN</td>\n",
       "      <td>NaN</td>\n",
       "      <td>0</td>\n",
       "      <td>4</td>\n",
       "      <td>2010</td>\n",
       "      <td>WD</td>\n",
       "      <td>Normal</td>\n",
       "      <td>202900</td>\n",
       "    </tr>\n",
       "    <tr>\n",
       "      <th>5</th>\n",
       "      <td>553</td>\n",
       "      <td>20</td>\n",
       "      <td>RL</td>\n",
       "      <td>87.0</td>\n",
       "      <td>11146</td>\n",
       "      <td>Pave</td>\n",
       "      <td>NaN</td>\n",
       "      <td>IR1</td>\n",
       "      <td>Lvl</td>\n",
       "      <td>AllPub</td>\n",
       "      <td>...</td>\n",
       "      <td>0</td>\n",
       "      <td>NaN</td>\n",
       "      <td>NaN</td>\n",
       "      <td>NaN</td>\n",
       "      <td>0</td>\n",
       "      <td>7</td>\n",
       "      <td>2009</td>\n",
       "      <td>WD</td>\n",
       "      <td>Normal</td>\n",
       "      <td>255500</td>\n",
       "    </tr>\n",
       "    <tr>\n",
       "      <th>6</th>\n",
       "      <td>1122</td>\n",
       "      <td>20</td>\n",
       "      <td>RL</td>\n",
       "      <td>84.0</td>\n",
       "      <td>10084</td>\n",
       "      <td>Pave</td>\n",
       "      <td>NaN</td>\n",
       "      <td>Reg</td>\n",
       "      <td>Lvl</td>\n",
       "      <td>AllPub</td>\n",
       "      <td>...</td>\n",
       "      <td>0</td>\n",
       "      <td>NaN</td>\n",
       "      <td>NaN</td>\n",
       "      <td>NaN</td>\n",
       "      <td>0</td>\n",
       "      <td>7</td>\n",
       "      <td>2006</td>\n",
       "      <td>New</td>\n",
       "      <td>Partial</td>\n",
       "      <td>212900</td>\n",
       "    </tr>\n",
       "    <tr>\n",
       "      <th>7</th>\n",
       "      <td>1116</td>\n",
       "      <td>20</td>\n",
       "      <td>RL</td>\n",
       "      <td>93.0</td>\n",
       "      <td>12085</td>\n",
       "      <td>Pave</td>\n",
       "      <td>NaN</td>\n",
       "      <td>Reg</td>\n",
       "      <td>Lvl</td>\n",
       "      <td>AllPub</td>\n",
       "      <td>...</td>\n",
       "      <td>0</td>\n",
       "      <td>NaN</td>\n",
       "      <td>NaN</td>\n",
       "      <td>NaN</td>\n",
       "      <td>0</td>\n",
       "      <td>11</td>\n",
       "      <td>2007</td>\n",
       "      <td>New</td>\n",
       "      <td>Partial</td>\n",
       "      <td>318000</td>\n",
       "    </tr>\n",
       "    <tr>\n",
       "      <th>8</th>\n",
       "      <td>1433</td>\n",
       "      <td>30</td>\n",
       "      <td>RL</td>\n",
       "      <td>60.0</td>\n",
       "      <td>10800</td>\n",
       "      <td>Pave</td>\n",
       "      <td>Grvl</td>\n",
       "      <td>Reg</td>\n",
       "      <td>Lvl</td>\n",
       "      <td>AllPub</td>\n",
       "      <td>...</td>\n",
       "      <td>0</td>\n",
       "      <td>NaN</td>\n",
       "      <td>NaN</td>\n",
       "      <td>NaN</td>\n",
       "      <td>0</td>\n",
       "      <td>8</td>\n",
       "      <td>2007</td>\n",
       "      <td>WD</td>\n",
       "      <td>Normal</td>\n",
       "      <td>64500</td>\n",
       "    </tr>\n",
       "    <tr>\n",
       "      <th>9</th>\n",
       "      <td>489</td>\n",
       "      <td>190</td>\n",
       "      <td>RL</td>\n",
       "      <td>60.0</td>\n",
       "      <td>10800</td>\n",
       "      <td>Pave</td>\n",
       "      <td>NaN</td>\n",
       "      <td>Reg</td>\n",
       "      <td>Lvl</td>\n",
       "      <td>AllPub</td>\n",
       "      <td>...</td>\n",
       "      <td>0</td>\n",
       "      <td>NaN</td>\n",
       "      <td>NaN</td>\n",
       "      <td>NaN</td>\n",
       "      <td>0</td>\n",
       "      <td>5</td>\n",
       "      <td>2006</td>\n",
       "      <td>ConLD</td>\n",
       "      <td>Normal</td>\n",
       "      <td>160000</td>\n",
       "    </tr>\n",
       "  </tbody>\n",
       "</table>\n",
       "<p>10 rows × 81 columns</p>\n",
       "</div>"
      ],
      "text/plain": [
       "     Id  MSSubClass MSZoning  LotFrontage  LotArea Street Alley LotShape  \\\n",
       "0  1118          20       RL         57.0     9764   Pave   NaN      IR1   \n",
       "1   903          60       RL         63.0     7875   Pave   NaN      Reg   \n",
       "2   658          70       RL         60.0     7200   Pave   NaN      Reg   \n",
       "3   339          20       RL         91.0    14145   Pave   NaN      Reg   \n",
       "4   341          60       RL         85.0    14191   Pave   NaN      Reg   \n",
       "5   553          20       RL         87.0    11146   Pave   NaN      IR1   \n",
       "6  1122          20       RL         84.0    10084   Pave   NaN      Reg   \n",
       "7  1116          20       RL         93.0    12085   Pave   NaN      Reg   \n",
       "8  1433          30       RL         60.0    10800   Pave  Grvl      Reg   \n",
       "9   489         190       RL         60.0    10800   Pave   NaN      Reg   \n",
       "\n",
       "  LandContour Utilities  ... PoolArea PoolQC  Fence MiscFeature MiscVal  \\\n",
       "0         Lvl    AllPub  ...        0    NaN    NaN         NaN       0   \n",
       "1         Lvl    AllPub  ...        0    NaN    NaN         NaN       0   \n",
       "2         HLS    AllPub  ...        0    NaN  MnPrv         NaN       0   \n",
       "3         Lvl    AllPub  ...        0    NaN    NaN        Shed     400   \n",
       "4         Lvl    AllPub  ...        0    NaN    NaN         NaN       0   \n",
       "5         Lvl    AllPub  ...        0    NaN    NaN         NaN       0   \n",
       "6         Lvl    AllPub  ...        0    NaN    NaN         NaN       0   \n",
       "7         Lvl    AllPub  ...        0    NaN    NaN         NaN       0   \n",
       "8         Lvl    AllPub  ...        0    NaN    NaN         NaN       0   \n",
       "9         Lvl    AllPub  ...        0    NaN    NaN         NaN       0   \n",
       "\n",
       "  MoSold YrSold  SaleType  SaleCondition  SalePrice  \n",
       "0      5   2008        WD         Normal     130000  \n",
       "1      7   2006        WD         Normal     180000  \n",
       "2      2   2008        WD         Normal     149000  \n",
       "3      5   2006        WD         Normal     202500  \n",
       "4      4   2010        WD         Normal     202900  \n",
       "5      7   2009        WD         Normal     255500  \n",
       "6      7   2006       New        Partial     212900  \n",
       "7     11   2007       New        Partial     318000  \n",
       "8      8   2007        WD         Normal      64500  \n",
       "9      5   2006     ConLD         Normal     160000  \n",
       "\n",
       "[10 rows x 81 columns]"
      ]
     },
     "execution_count": 9,
     "metadata": {},
     "output_type": "execute_result"
    }
   ],
   "source": [
    "real_data_df.head(10)"
   ]
  },
  {
   "cell_type": "code",
   "execution_count": 10,
   "id": "91fc049e-b117-4269-8b6a-30b1252beaf2",
   "metadata": {},
   "outputs": [
    {
     "data": {
      "text/html": [
       "<div>\n",
       "<style scoped>\n",
       "    .dataframe tbody tr th:only-of-type {\n",
       "        vertical-align: middle;\n",
       "    }\n",
       "\n",
       "    .dataframe tbody tr th {\n",
       "        vertical-align: top;\n",
       "    }\n",
       "\n",
       "    .dataframe thead th {\n",
       "        text-align: right;\n",
       "    }\n",
       "</style>\n",
       "<table border=\"1\" class=\"dataframe\">\n",
       "  <thead>\n",
       "    <tr style=\"text-align: right;\">\n",
       "      <th></th>\n",
       "      <th>Id</th>\n",
       "      <th>MSSubClass</th>\n",
       "      <th>MSZoning</th>\n",
       "      <th>LotFrontage</th>\n",
       "      <th>LotArea</th>\n",
       "      <th>Street</th>\n",
       "      <th>Alley</th>\n",
       "      <th>LotShape</th>\n",
       "      <th>LandContour</th>\n",
       "      <th>Utilities</th>\n",
       "      <th>...</th>\n",
       "      <th>PoolArea</th>\n",
       "      <th>PoolQC</th>\n",
       "      <th>Fence</th>\n",
       "      <th>MiscFeature</th>\n",
       "      <th>MiscVal</th>\n",
       "      <th>MoSold</th>\n",
       "      <th>YrSold</th>\n",
       "      <th>SaleType</th>\n",
       "      <th>SaleCondition</th>\n",
       "      <th>SalePrice</th>\n",
       "    </tr>\n",
       "  </thead>\n",
       "  <tbody>\n",
       "    <tr>\n",
       "      <th>0</th>\n",
       "      <td>0</td>\n",
       "      <td>72</td>\n",
       "      <td>RM</td>\n",
       "      <td>40.641026</td>\n",
       "      <td>8038</td>\n",
       "      <td>Pave</td>\n",
       "      <td>NaN</td>\n",
       "      <td>IR1</td>\n",
       "      <td>Lvl</td>\n",
       "      <td>AllPub</td>\n",
       "      <td>...</td>\n",
       "      <td>-8</td>\n",
       "      <td>NaN</td>\n",
       "      <td>NaN</td>\n",
       "      <td>NaN</td>\n",
       "      <td>58</td>\n",
       "      <td>9</td>\n",
       "      <td>2008</td>\n",
       "      <td>WD</td>\n",
       "      <td>Normal</td>\n",
       "      <td>114858</td>\n",
       "    </tr>\n",
       "    <tr>\n",
       "      <th>1</th>\n",
       "      <td>1</td>\n",
       "      <td>48</td>\n",
       "      <td>RL</td>\n",
       "      <td>81.032920</td>\n",
       "      <td>10414</td>\n",
       "      <td>Grvl</td>\n",
       "      <td>NaN</td>\n",
       "      <td>IR1</td>\n",
       "      <td>Bnk</td>\n",
       "      <td>AllPub</td>\n",
       "      <td>...</td>\n",
       "      <td>8</td>\n",
       "      <td>NaN</td>\n",
       "      <td>NaN</td>\n",
       "      <td>Shed</td>\n",
       "      <td>577</td>\n",
       "      <td>6</td>\n",
       "      <td>2006</td>\n",
       "      <td>WD</td>\n",
       "      <td>Normal</td>\n",
       "      <td>197172</td>\n",
       "    </tr>\n",
       "    <tr>\n",
       "      <th>2</th>\n",
       "      <td>2</td>\n",
       "      <td>20</td>\n",
       "      <td>RL</td>\n",
       "      <td>36.472885</td>\n",
       "      <td>-1829</td>\n",
       "      <td>Pave</td>\n",
       "      <td>NaN</td>\n",
       "      <td>Reg</td>\n",
       "      <td>Lvl</td>\n",
       "      <td>AllPub</td>\n",
       "      <td>...</td>\n",
       "      <td>5</td>\n",
       "      <td>NaN</td>\n",
       "      <td>NaN</td>\n",
       "      <td>NaN</td>\n",
       "      <td>-119</td>\n",
       "      <td>7</td>\n",
       "      <td>2006</td>\n",
       "      <td>WD</td>\n",
       "      <td>Normal</td>\n",
       "      <td>127683</td>\n",
       "    </tr>\n",
       "    <tr>\n",
       "      <th>3</th>\n",
       "      <td>3</td>\n",
       "      <td>177</td>\n",
       "      <td>RM</td>\n",
       "      <td>52.747695</td>\n",
       "      <td>10412</td>\n",
       "      <td>Pave</td>\n",
       "      <td>NaN</td>\n",
       "      <td>Reg</td>\n",
       "      <td>Lvl</td>\n",
       "      <td>AllPub</td>\n",
       "      <td>...</td>\n",
       "      <td>8</td>\n",
       "      <td>NaN</td>\n",
       "      <td>NaN</td>\n",
       "      <td>NaN</td>\n",
       "      <td>165</td>\n",
       "      <td>6</td>\n",
       "      <td>2009</td>\n",
       "      <td>WD</td>\n",
       "      <td>Normal</td>\n",
       "      <td>153709</td>\n",
       "    </tr>\n",
       "    <tr>\n",
       "      <th>4</th>\n",
       "      <td>4</td>\n",
       "      <td>11</td>\n",
       "      <td>RL</td>\n",
       "      <td>68.450861</td>\n",
       "      <td>11129</td>\n",
       "      <td>Pave</td>\n",
       "      <td>NaN</td>\n",
       "      <td>Reg</td>\n",
       "      <td>Lvl</td>\n",
       "      <td>AllPub</td>\n",
       "      <td>...</td>\n",
       "      <td>-1</td>\n",
       "      <td>NaN</td>\n",
       "      <td>NaN</td>\n",
       "      <td>NaN</td>\n",
       "      <td>441</td>\n",
       "      <td>1</td>\n",
       "      <td>2007</td>\n",
       "      <td>WD</td>\n",
       "      <td>Normal</td>\n",
       "      <td>164198</td>\n",
       "    </tr>\n",
       "    <tr>\n",
       "      <th>5</th>\n",
       "      <td>5</td>\n",
       "      <td>74</td>\n",
       "      <td>RL</td>\n",
       "      <td>68.291836</td>\n",
       "      <td>9277</td>\n",
       "      <td>Pave</td>\n",
       "      <td>NaN</td>\n",
       "      <td>IR1</td>\n",
       "      <td>Lvl</td>\n",
       "      <td>AllPub</td>\n",
       "      <td>...</td>\n",
       "      <td>9</td>\n",
       "      <td>NaN</td>\n",
       "      <td>NaN</td>\n",
       "      <td>NaN</td>\n",
       "      <td>-143</td>\n",
       "      <td>7</td>\n",
       "      <td>2006</td>\n",
       "      <td>WD</td>\n",
       "      <td>Normal</td>\n",
       "      <td>121669</td>\n",
       "    </tr>\n",
       "    <tr>\n",
       "      <th>6</th>\n",
       "      <td>6</td>\n",
       "      <td>17</td>\n",
       "      <td>RL</td>\n",
       "      <td>90.976485</td>\n",
       "      <td>8596</td>\n",
       "      <td>Pave</td>\n",
       "      <td>Grvl</td>\n",
       "      <td>Reg</td>\n",
       "      <td>Lvl</td>\n",
       "      <td>AllPub</td>\n",
       "      <td>...</td>\n",
       "      <td>0</td>\n",
       "      <td>NaN</td>\n",
       "      <td>NaN</td>\n",
       "      <td>NaN</td>\n",
       "      <td>177</td>\n",
       "      <td>3</td>\n",
       "      <td>2010</td>\n",
       "      <td>WD</td>\n",
       "      <td>Normal</td>\n",
       "      <td>394032</td>\n",
       "    </tr>\n",
       "    <tr>\n",
       "      <th>7</th>\n",
       "      <td>7</td>\n",
       "      <td>75</td>\n",
       "      <td>RM</td>\n",
       "      <td>72.052803</td>\n",
       "      <td>8596</td>\n",
       "      <td>Pave</td>\n",
       "      <td>NaN</td>\n",
       "      <td>Reg</td>\n",
       "      <td>Lvl</td>\n",
       "      <td>AllPub</td>\n",
       "      <td>...</td>\n",
       "      <td>9</td>\n",
       "      <td>NaN</td>\n",
       "      <td>NaN</td>\n",
       "      <td>NaN</td>\n",
       "      <td>-49</td>\n",
       "      <td>2</td>\n",
       "      <td>2009</td>\n",
       "      <td>WD</td>\n",
       "      <td>Normal</td>\n",
       "      <td>127043</td>\n",
       "    </tr>\n",
       "    <tr>\n",
       "      <th>8</th>\n",
       "      <td>8</td>\n",
       "      <td>32</td>\n",
       "      <td>RL</td>\n",
       "      <td>67.761313</td>\n",
       "      <td>9481</td>\n",
       "      <td>Pave</td>\n",
       "      <td>NaN</td>\n",
       "      <td>Reg</td>\n",
       "      <td>Lvl</td>\n",
       "      <td>AllPub</td>\n",
       "      <td>...</td>\n",
       "      <td>7</td>\n",
       "      <td>NaN</td>\n",
       "      <td>NaN</td>\n",
       "      <td>NaN</td>\n",
       "      <td>45</td>\n",
       "      <td>3</td>\n",
       "      <td>2007</td>\n",
       "      <td>WD</td>\n",
       "      <td>Normal</td>\n",
       "      <td>175815</td>\n",
       "    </tr>\n",
       "    <tr>\n",
       "      <th>9</th>\n",
       "      <td>9</td>\n",
       "      <td>144</td>\n",
       "      <td>RM</td>\n",
       "      <td>46.634261</td>\n",
       "      <td>3031</td>\n",
       "      <td>Pave</td>\n",
       "      <td>NaN</td>\n",
       "      <td>IR1</td>\n",
       "      <td>Lvl</td>\n",
       "      <td>AllPub</td>\n",
       "      <td>...</td>\n",
       "      <td>0</td>\n",
       "      <td>NaN</td>\n",
       "      <td>MnPrv</td>\n",
       "      <td>NaN</td>\n",
       "      <td>-130</td>\n",
       "      <td>4</td>\n",
       "      <td>2006</td>\n",
       "      <td>WD</td>\n",
       "      <td>Normal</td>\n",
       "      <td>97889</td>\n",
       "    </tr>\n",
       "  </tbody>\n",
       "</table>\n",
       "<p>10 rows × 81 columns</p>\n",
       "</div>"
      ],
      "text/plain": [
       "   Id  MSSubClass MSZoning  LotFrontage  LotArea Street Alley LotShape  \\\n",
       "0   0          72       RM    40.641026     8038   Pave   NaN      IR1   \n",
       "1   1          48       RL    81.032920    10414   Grvl   NaN      IR1   \n",
       "2   2          20       RL    36.472885    -1829   Pave   NaN      Reg   \n",
       "3   3         177       RM    52.747695    10412   Pave   NaN      Reg   \n",
       "4   4          11       RL    68.450861    11129   Pave   NaN      Reg   \n",
       "5   5          74       RL    68.291836     9277   Pave   NaN      IR1   \n",
       "6   6          17       RL    90.976485     8596   Pave  Grvl      Reg   \n",
       "7   7          75       RM    72.052803     8596   Pave   NaN      Reg   \n",
       "8   8          32       RL    67.761313     9481   Pave   NaN      Reg   \n",
       "9   9         144       RM    46.634261     3031   Pave   NaN      IR1   \n",
       "\n",
       "  LandContour Utilities  ... PoolArea PoolQC  Fence MiscFeature MiscVal  \\\n",
       "0         Lvl    AllPub  ...       -8    NaN    NaN         NaN      58   \n",
       "1         Bnk    AllPub  ...        8    NaN    NaN        Shed     577   \n",
       "2         Lvl    AllPub  ...        5    NaN    NaN         NaN    -119   \n",
       "3         Lvl    AllPub  ...        8    NaN    NaN         NaN     165   \n",
       "4         Lvl    AllPub  ...       -1    NaN    NaN         NaN     441   \n",
       "5         Lvl    AllPub  ...        9    NaN    NaN         NaN    -143   \n",
       "6         Lvl    AllPub  ...        0    NaN    NaN         NaN     177   \n",
       "7         Lvl    AllPub  ...        9    NaN    NaN         NaN     -49   \n",
       "8         Lvl    AllPub  ...        7    NaN    NaN         NaN      45   \n",
       "9         Lvl    AllPub  ...        0    NaN  MnPrv         NaN    -130   \n",
       "\n",
       "  MoSold YrSold  SaleType  SaleCondition  SalePrice  \n",
       "0      9   2008        WD         Normal     114858  \n",
       "1      6   2006        WD         Normal     197172  \n",
       "2      7   2006        WD         Normal     127683  \n",
       "3      6   2009        WD         Normal     153709  \n",
       "4      1   2007        WD         Normal     164198  \n",
       "5      7   2006        WD         Normal     121669  \n",
       "6      3   2010        WD         Normal     394032  \n",
       "7      2   2009        WD         Normal     127043  \n",
       "8      3   2007        WD         Normal     175815  \n",
       "9      4   2006        WD         Normal      97889  \n",
       "\n",
       "[10 rows x 81 columns]"
      ]
     },
     "execution_count": 10,
     "metadata": {},
     "output_type": "execute_result"
    }
   ],
   "source": [
    "syn_data_df.head(10)"
   ]
  },
  {
   "cell_type": "code",
   "execution_count": null,
   "id": "0c92b8bd-cd7e-41c5-aa09-ba07df3f62e0",
   "metadata": {},
   "outputs": [],
   "source": []
  }
 ],
 "metadata": {
  "kernelspec": {
   "display_name": "Python 3",
   "language": "python",
   "name": "python3"
  },
  "language_info": {
   "codemirror_mode": {
    "name": "ipython",
    "version": 3
   },
   "file_extension": ".py",
   "mimetype": "text/x-python",
   "name": "python",
   "nbconvert_exporter": "python",
   "pygments_lexer": "ipython3",
   "version": "3.6.15"
  }
 },
 "nbformat": 4,
 "nbformat_minor": 5
}
